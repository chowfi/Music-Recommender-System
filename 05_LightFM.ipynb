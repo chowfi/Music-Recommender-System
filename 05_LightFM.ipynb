{
 "cells": [
  {
   "cell_type": "markdown",
   "id": "d78487dd",
   "metadata": {},
   "source": [
    "# LightFM Music Recommender"
   ]
  },
  {
   "cell_type": "markdown",
   "id": "955ec01c",
   "metadata": {},
   "source": [
    "## Imports"
   ]
  },
  {
   "cell_type": "code",
   "execution_count": 1,
   "id": "1e781b00",
   "metadata": {},
   "outputs": [
    {
     "name": "stdout",
     "output_type": "stream",
     "text": [
      "Requirement already satisfied: fastparquet in /opt/anaconda3/lib/python3.9/site-packages (2023.4.0)\n",
      "Requirement already satisfied: pandas>=1.5.0 in /opt/anaconda3/lib/python3.9/site-packages (from fastparquet) (2.0.1)\n",
      "Requirement already satisfied: numpy>=1.20.3 in /opt/anaconda3/lib/python3.9/site-packages (from fastparquet) (1.21.5)\n",
      "Requirement already satisfied: cramjam>=2.3 in /opt/anaconda3/lib/python3.9/site-packages (from fastparquet) (2.6.2)\n",
      "Requirement already satisfied: fsspec in /opt/anaconda3/lib/python3.9/site-packages (from fastparquet) (2023.3.0)\n",
      "Requirement already satisfied: packaging in /opt/anaconda3/lib/python3.9/site-packages (from fastparquet) (23.0)\n",
      "Requirement already satisfied: python-dateutil>=2.8.2 in /opt/anaconda3/lib/python3.9/site-packages (from pandas>=1.5.0->fastparquet) (2.8.2)\n",
      "Requirement already satisfied: pytz>=2020.1 in /opt/anaconda3/lib/python3.9/site-packages (from pandas>=1.5.0->fastparquet) (2022.7)\n",
      "Requirement already satisfied: tzdata>=2022.1 in /opt/anaconda3/lib/python3.9/site-packages (from pandas>=1.5.0->fastparquet) (2023.3)\n",
      "Requirement already satisfied: six>=1.5 in /opt/anaconda3/lib/python3.9/site-packages (from python-dateutil>=2.8.2->pandas>=1.5.0->fastparquet) (1.16.0)\n"
     ]
    }
   ],
   "source": [
    "#!pip install lightfm\n",
    "!pip install fastparquet"
   ]
  },
  {
   "cell_type": "code",
   "execution_count": 2,
   "id": "61a4105d",
   "metadata": {},
   "outputs": [
    {
     "name": "stderr",
     "output_type": "stream",
     "text": [
      "/opt/anaconda3/lib/python3.9/site-packages/lightfm/_lightfm_fast.py:9: UserWarning: LightFM was compiled without OpenMP support. Only a single thread will be used.\n",
      "  warnings.warn(\n"
     ]
    }
   ],
   "source": [
    "import numpy as np\n",
    "import pandas as pd\n",
    "import seaborn as sns\n",
    "from scipy import sparse as sp\n",
    "from warnings import filterwarnings\n",
    "from matplotlib import pyplot as plt\n",
    "\n",
    "import os\n",
    "\n",
    "from lightfm import LightFM\n",
    "from sklearn.metrics import pairwise as pw\n",
    "from lightfm.evaluation import precision_at_k, recall_at_k, auc_score, reciprocal_rank\n",
    "\n",
    "sns.set()\n",
    "filterwarnings('ignore')\n",
    "\n",
    "%matplotlib inline"
   ]
  },
  {
   "cell_type": "code",
   "execution_count": 3,
   "id": "64a7509a",
   "metadata": {},
   "outputs": [],
   "source": [
    "from lightfm.data import Dataset"
   ]
  },
  {
   "cell_type": "markdown",
   "id": "56283b53",
   "metadata": {},
   "source": [
    "### Small dataset"
   ]
  },
  {
   "cell_type": "code",
   "execution_count": 4,
   "id": "5c408749",
   "metadata": {},
   "outputs": [],
   "source": [
    "train = pd.read_parquet('train.parquet', engine='fastparquet')\n",
    "val = pd.read_parquet('val.parquet', engine='fastparquet')"
   ]
  },
  {
   "cell_type": "code",
   "execution_count": 5,
   "id": "58cbe7c4",
   "metadata": {},
   "outputs": [],
   "source": [
    "train = train.iloc[:,[2,1,0]]\n",
    "val = val.iloc[:,[2,1,0]]"
   ]
  },
  {
   "cell_type": "code",
   "execution_count": 6,
   "id": "14ef6d85",
   "metadata": {},
   "outputs": [],
   "source": [
    "full = pd.concat([train, val]).drop_duplicates()"
   ]
  },
  {
   "cell_type": "code",
   "execution_count": 7,
   "id": "2bbdf181",
   "metadata": {},
   "outputs": [],
   "source": [
    "d = Dataset()"
   ]
  },
  {
   "cell_type": "code",
   "execution_count": 8,
   "id": "4e547850",
   "metadata": {},
   "outputs": [],
   "source": [
    "d.fit(np.unique(full['user_id']), full['recording_mbid'].unique())"
   ]
  },
  {
   "cell_type": "code",
   "execution_count": 9,
   "id": "d66d66d0",
   "metadata": {},
   "outputs": [],
   "source": [
    "train_interactions, train_weights = d.build_interactions(train.values)\n",
    "val_interactions, val_weights = d.build_interactions(val.values)"
   ]
  },
  {
   "cell_type": "code",
   "execution_count": 10,
   "id": "22be16b5",
   "metadata": {},
   "outputs": [
    {
     "name": "stdout",
     "output_type": "stream",
     "text": [
      "CPU times: user 6.37 s, sys: 28.9 ms, total: 6.4 s\n",
      "Wall time: 6.41 s\n"
     ]
    },
    {
     "data": {
      "text/plain": [
       "<lightfm.lightfm.LightFM at 0x7fa1d4302370>"
      ]
     },
     "execution_count": 10,
     "metadata": {},
     "output_type": "execute_result"
    }
   ],
   "source": [
    "%%time\n",
    "\n",
    "model = LightFM(loss='warp-kos', learning_rate=0.05)\n",
    "model.fit(train_interactions, epochs=10)"
   ]
  },
  {
   "cell_type": "code",
   "execution_count": 11,
   "id": "bf87b5d9",
   "metadata": {},
   "outputs": [
    {
     "data": {
      "text/plain": [
       "0.028906249"
      ]
     },
     "execution_count": 11,
     "metadata": {},
     "output_type": "execute_result"
    }
   ],
   "source": [
    "precision_at_k(model, val_interactions, k = 100).mean()"
   ]
  },
  {
   "cell_type": "code",
   "execution_count": 12,
   "id": "08d1252f",
   "metadata": {},
   "outputs": [
    {
     "data": {
      "text/plain": [
       "0.4688"
      ]
     },
     "execution_count": 12,
     "metadata": {},
     "output_type": "execute_result"
    }
   ],
   "source": [
    "auc_score(model, val_interactions).mean().round(4)"
   ]
  },
  {
   "cell_type": "code",
   "execution_count": 13,
   "id": "bce67199",
   "metadata": {},
   "outputs": [
    {
     "data": {
      "text/plain": [
       "0.22630036"
      ]
     },
     "execution_count": 13,
     "metadata": {},
     "output_type": "execute_result"
    }
   ],
   "source": [
    "precision_at_k(model, train_interactions, k = 100).mean()"
   ]
  },
  {
   "cell_type": "code",
   "execution_count": 14,
   "id": "4cffb136",
   "metadata": {},
   "outputs": [
    {
     "data": {
      "text/plain": [
       "0.8477"
      ]
     },
     "execution_count": 14,
     "metadata": {},
     "output_type": "execute_result"
    }
   ],
   "source": [
    "auc_score(model, train_interactions).mean().round(4)"
   ]
  },
  {
   "cell_type": "markdown",
   "id": "704dd9e2",
   "metadata": {},
   "source": [
    "### Full dataset"
   ]
  },
  {
   "cell_type": "code",
   "execution_count": 15,
   "id": "782e525a",
   "metadata": {},
   "outputs": [],
   "source": [
    "file_path_val = '/Users/christinegao/Documents/dsga 1004/final-project-group16/val_interaction_noncoldstart.parquet/'\n",
    "file_path_train = '/Users/christinegao/Documents/dsga 1004/final-project-group16/train_interaction_noncoldstart.parquet/'\n",
    "\n",
    "files_val = [file for file in os.listdir('/Users/christinegao/Documents/dsga 1004/final-project-group16/val_interaction_noncoldstart.parquet') if file.endswith('.parquet')]\n",
    "files_train = [file for file in os.listdir('/Users/christinegao/Documents/dsga 1004/final-project-group16/train_interaction_noncoldstart.parquet') if file.endswith('.parquet')]\n",
    "# read each CSV file into a Pandas DataFrame and store in a list\n",
    "\n",
    "\n",
    "val_list = []\n",
    "for file in files_val:\n",
    "    file_name = file_path_val+file\n",
    "    df = pd.read_parquet(file_name)\n",
    "    val_list.append(df)\n",
    "\n",
    "# concatenate all DataFrames in the list into a single DataFrame\n",
    "val = pd.concat(val_list, ignore_index=True)\n",
    "\n",
    "\n",
    "train_list = []\n",
    "for file in files_train:\n",
    "    file_name = file_path_train+file\n",
    "    df = pd.read_parquet(file_name)\n",
    "    train_list.append(df)\n",
    "\n",
    "# concatenate all DataFrames in the list into a single DataFrame\n",
    "val_big = pd.concat(val_list, ignore_index=True)\n",
    "train_big = pd.concat(train_list, ignore_index=True)"
   ]
  },
  {
   "cell_type": "code",
   "execution_count": 16,
   "id": "2330948a",
   "metadata": {},
   "outputs": [],
   "source": [
    "val_big = val_big.iloc[:,[0,2,1]]\n",
    "train_big = train_big.iloc[:,[0,2,1]]"
   ]
  },
  {
   "cell_type": "code",
   "execution_count": 17,
   "id": "351f11b0",
   "metadata": {},
   "outputs": [],
   "source": [
    "full = pd.concat([train_big, val_big]).drop_duplicates()"
   ]
  },
  {
   "cell_type": "code",
   "execution_count": 18,
   "id": "6bde3ada",
   "metadata": {},
   "outputs": [],
   "source": [
    "d = Dataset()\n",
    "d.fit(np.unique(full['user_id']), full['recording_mbid'].unique())"
   ]
  },
  {
   "cell_type": "code",
   "execution_count": 19,
   "id": "ca3f6bc6",
   "metadata": {},
   "outputs": [],
   "source": [
    "train_interactions, train_weights = d.build_interactions(train_big.values)\n",
    "val_interactions, val_weights = d.build_interactions(val_big.values)"
   ]
  },
  {
   "cell_type": "code",
   "execution_count": 20,
   "id": "42b2488b",
   "metadata": {},
   "outputs": [
    {
     "name": "stdout",
     "output_type": "stream",
     "text": [
      "CPU times: user 3min 38s, sys: 1.18 s, total: 3min 39s\n",
      "Wall time: 3min 41s\n"
     ]
    },
    {
     "data": {
      "text/plain": [
       "<lightfm.lightfm.LightFM at 0x7fa1d42e5d60>"
      ]
     },
     "execution_count": 20,
     "metadata": {},
     "output_type": "execute_result"
    }
   ],
   "source": [
    "%%time\n",
    "\n",
    "model = LightFM(loss='warp-kos', learning_rate=0.05)\n",
    "model.fit(train_interactions, epochs=10)"
   ]
  },
  {
   "cell_type": "code",
   "execution_count": 21,
   "id": "bb8f07e5",
   "metadata": {},
   "outputs": [
    {
     "data": {
      "text/plain": [
       "0.0006"
      ]
     },
     "execution_count": 21,
     "metadata": {},
     "output_type": "execute_result"
    }
   ],
   "source": [
    "precision_at_k(model, val_interactions, k = 100).mean().round(4)"
   ]
  },
  {
   "cell_type": "code",
   "execution_count": 22,
   "id": "971cab63",
   "metadata": {},
   "outputs": [
    {
     "data": {
      "text/plain": [
       "0.4078"
      ]
     },
     "execution_count": 22,
     "metadata": {},
     "output_type": "execute_result"
    }
   ],
   "source": [
    "auc_score(model, val_interactions).mean().round(4)"
   ]
  },
  {
   "cell_type": "code",
   "execution_count": 23,
   "id": "3f40a087",
   "metadata": {},
   "outputs": [
    {
     "data": {
      "text/plain": [
       "0.1765"
      ]
     },
     "execution_count": 23,
     "metadata": {},
     "output_type": "execute_result"
    }
   ],
   "source": [
    "precision_at_k(model, train_interactions, k=100).mean().round(4)"
   ]
  },
  {
   "cell_type": "code",
   "execution_count": null,
   "id": "2e190e38",
   "metadata": {},
   "outputs": [],
   "source": []
  }
 ],
 "metadata": {
  "kernelspec": {
   "display_name": "Python 3 (ipykernel)",
   "language": "python",
   "name": "python3"
  },
  "language_info": {
   "codemirror_mode": {
    "name": "ipython",
    "version": 3
   },
   "file_extension": ".py",
   "mimetype": "text/x-python",
   "name": "python",
   "nbconvert_exporter": "python",
   "pygments_lexer": "ipython3",
   "version": "3.9.15"
  }
 },
 "nbformat": 4,
 "nbformat_minor": 5
}
